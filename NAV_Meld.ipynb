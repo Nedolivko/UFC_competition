{
 "cells": [
  {
   "cell_type": "code",
   "execution_count": 2,
   "outputs": [
    {
     "name": "stdout",
     "output_type": "stream",
     "text": [
      "/home/aleksey/DataSpellProject/DeepLearning/Competition/UFC\r\n",
      "total 1176\r\n",
      "drwxrwxr-x 3 aleksey aleksey   4096 May 16 22:07  .\r\n",
      "drwxrwxr-x 5 aleksey aleksey   4096 May 16 21:05  ..\r\n",
      "drwxrwxr-x 2 aleksey aleksey   4096 May 16 21:12  data\r\n",
      "-rw-rw-r-- 1 aleksey aleksey 378697 Mar  9  2021 'Data Preparing.ipynb'\r\n",
      "-rw-rw-r-- 1 aleksey aleksey    817 May 16 22:07  Meldonium.ipynb\r\n",
      "-rw-rw-r-- 1 aleksey aleksey 806595 Mar  9  2021 'Model construction.ipynb'\r\n"
     ]
    }
   ],
   "source": [
    "!pwd\n",
    "!ls -la"
   ],
   "metadata": {
    "collapsed": false,
    "pycharm": {
     "name": "#%%\n"
    }
   }
  },
  {
   "cell_type": "code",
   "execution_count": null,
   "outputs": [],
   "source": [],
   "metadata": {
    "collapsed": false,
    "pycharm": {
     "name": "#%%\n"
    }
   }
  }
 ],
 "metadata": {
  "kernelspec": {
   "display_name": "Python 3",
   "language": "python",
   "name": "python3"
  },
  "language_info": {
   "codemirror_mode": {
    "name": "ipython",
    "version": 2
   },
   "file_extension": ".py",
   "mimetype": "text/x-python",
   "name": "python",
   "nbconvert_exporter": "python",
   "pygments_lexer": "ipython2",
   "version": "2.7.6"
  }
 },
 "nbformat": 4,
 "nbformat_minor": 0
}