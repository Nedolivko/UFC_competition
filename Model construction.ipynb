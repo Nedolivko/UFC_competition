{
 "cells": [
  {
   "cell_type": "code",
   "execution_count": 10,
   "id": "encouraging-royal",
   "metadata": {
    "pycharm": {
     "name": "#%%\n"
    }
   },
   "outputs": [],
   "source": [
    "from catboost import CatBoostClassifier\n",
    "import pandas as pd\n",
    "import json\n",
    "from pandas import json_normalize\n",
    "from tqdm import tqdm_notebook as tqdm\n",
    "import numpy as np\n",
    "import ast\n",
    "\n",
    "use_cols = ['hitsPM', 'accentedHitsPM', 'takedownsPM', 'accentedHitsDistancePM',\n",
    "       'accentedHitsClinchPM', 'accentedHitsParterPM', 'hitsSuccessfulPM',\n",
    "       'accentedHitsSuccessfulPM', 'takedownsSuccessfulPM',\n",
    "       'accentedHitsDistanceSuccessfulPM', 'accentedHitsClinchSuccessfulPM',\n",
    "       'accentedHitsParterSuccessfulPM', 'hitsSuccessful_percent',\n",
    "       'accentedHitsSuccessful_percent', 'accentedHits_percent',\n",
    "       'takedownSuccessful_percent',\n",
    "       'accentedHitsPositionDistanceSuccessful_prcent',\n",
    "       'accentedHitsPositionClinchSuccessful_percent',\n",
    "       'accentedHitsPositionParterSuccessful_percent', 'takedowns_to_hits',\n",
    "       'HitsPositionDistance_to_hits', 'HitsPositionClinch_to_hits',\n",
    "       'HitsPositionParter_to_hits', 'odd_diff',\n",
    "       'fighter1_fightsAmount', 'fighter2_fightsAmount']#, 'odd1', 'odd2']\n"
   ]
  },
  {
   "cell_type": "code",
   "execution_count": 11,
   "id": "upset-understanding",
   "metadata": {
    "pycharm": {
     "name": "#%%\n"
    }
   },
   "outputs": [
    {
     "name": "stdout",
     "output_type": "stream",
     "text": [
      "0.26.1\n"
     ]
    }
   ],
   "source": [
    "import catboost\n",
    "print(catboost.__version__)"
   ]
  },
  {
   "cell_type": "code",
   "execution_count": 12,
   "id": "crucial-reply",
   "metadata": {
    "pycharm": {
     "name": "#%%\n"
    }
   },
   "outputs": [
    {
     "data": {
      "text/plain": "((2622, 30), (501, 30), (501, 30))"
     },
     "execution_count": 12,
     "metadata": {},
     "output_type": "execute_result"
    }
   ],
   "source": [
    "train_df_combined = pd.read_pickle('data/train_df_combined.pkl')\n",
    "valid_df_combined = pd.read_pickle('data/valid_df_combined.pkl')\n",
    "test_df_combined = pd.read_pickle('data/valid_df_combined.pkl')\n",
    "train_df_combined.shape, valid_df_combined.shape, test_df_combined.shape"
   ]
  },
  {
   "cell_type": "code",
   "execution_count": 13,
   "id": "federal-alloy",
   "metadata": {
    "pycharm": {
     "name": "#%%\n"
    }
   },
   "outputs": [
    {
     "name": "stderr",
     "output_type": "stream",
     "text": [
      "Warning: less than 75% gpu memory available for training. Free: 1464.4375 Total: 1998.25\n"
     ]
    },
    {
     "data": {
      "text/plain": "<catboost.core.CatBoostClassifier at 0x7f81002a88b0>"
     },
     "execution_count": 4,
     "metadata": {},
     "output_type": "execute_result"
    },
    {
     "data": {
      "text/plain": "MetricVisualizer(layout=Layout(align_self='stretch', height='500px'))",
      "application/vnd.jupyter.widget-view+json": {
       "version_major": 2,
       "version_minor": 0,
       "model_id": "50419bebea2c4fcd8d673b013acb5aea"
      }
     },
     "metadata": {},
     "output_type": "display_data"
    },
    {
     "name": "stderr",
     "output_type": "stream",
     "text": [
      "Warning: less than 75% gpu memory available for training. Free: 1463.375 Total: 1998.25\n"
     ]
    },
    {
     "data": {
      "text/plain": "<catboost.core.CatBoostClassifier at 0x7f80bea76730>"
     },
     "execution_count": 13,
     "metadata": {},
     "output_type": "execute_result"
    }
   ],
   "source": [
    "X_train = train_df_combined[use_cols]\n",
    "y_train = train_df_combined['winner'].astype(int)\n",
    "\n",
    "X_val = valid_df_combined[use_cols]\n",
    "y_val = valid_df_combined['winner'].astype(int)\n",
    "\n",
    "# clf = CatBoostClassifier(custom_metric=['Accuracy'], max_depth=3, iterations=100)\n",
    "clf = CatBoostClassifier(iterations=1000, \n",
    "                           depth=4,\n",
    "                           learning_rate=0.01,\n",
    "                           loss_function='Logloss',\n",
    "                           colsample_bylevel=1,\n",
    "                           subsample=0.5,\n",
    "#                                    bagging_temperature=bagging_temperature,\n",
    "                           random_strength=1,\n",
    "                           l2_leaf_reg=30,\n",
    "                           eval_metric='Accuracy',\n",
    "#                            boosting_type='Plain', # 'Plain'\n",
    "                           bootstrap_type='Bernoulli',# 'Bernoulli' Bayesian\n",
    "                           max_ctr_complexity=2,\n",
    "                           task_type='GPU',\n",
    "                          )\n",
    "\n",
    "clf.fit(X_train, y_train, plot=True, eval_set=(X_val, y_val), verbose=False)"
   ]
  },
  {
   "cell_type": "code",
   "execution_count": 14,
   "id": "floral-terminal",
   "metadata": {
    "pycharm": {
     "name": "#%%\n"
    }
   },
   "outputs": [
    {
     "data": {
      "text/plain": "         hitsPM accentedHitsPM takedownsPM accentedHitsDistancePM  \\\n2622  -25.89794     -19.612038   -0.024196               1.899624   \n2623   8.413548       8.093302   -1.621034               5.983601   \n2624  -7.590965       1.043771    -0.55089               4.832289   \n2625 -57.506089     -49.296309   -0.098447             -50.491969   \n2626 -13.334967     -13.409557    0.355405              -3.249364   \n...         ...            ...         ...                    ...   \n3118  -2.840035      -7.628505   -0.259648             -13.296777   \n3119 -11.663098     -10.051576   -0.288376              -6.577657   \n3120 -33.480823     -35.842107   -0.252101             -34.181974   \n3121   3.739086       4.619619     0.30794               3.676759   \n3122  36.933069      25.311508    1.412302              19.523413   \n\n     accentedHitsClinchPM accentedHitsParterPM hitsSuccessfulPM  \\\n2622             0.768617           -22.280279       -16.028251   \n2623            -0.272975             2.382676         4.024911   \n2624            -4.653893             0.865375       -10.658257   \n2625            -2.983843             4.179503       -25.856508   \n2626             0.375843           -10.536036       -13.812913   \n...                   ...                  ...              ...   \n3118            -0.097671             5.765943         4.640153   \n3119            -2.030127            -1.443792         -8.69991   \n3120            -1.258317            -0.401816       -11.349771   \n3121             0.001156             0.941704         5.649491   \n3122             9.254762            -3.466667        22.998545   \n\n     accentedHitsSuccessfulPM takedownsSuccessfulPM  \\\n2622               -11.261337             -0.047324   \n2623                 3.855419                   0.0   \n2624                -3.237961              1.297714   \n2625               -18.955591               0.50037   \n2626               -13.756783              0.135135   \n...                       ...                   ...   \n3118                  0.32964             -0.057143   \n3119                -7.243997             -0.103094   \n3120               -13.393457                   0.0   \n3121                 6.230024               0.30794   \n3122                12.014418              0.145238   \n\n     accentedHitsDistanceSuccessfulPM  ... HitsPositionClinch_to_hits  \\\n2622                         0.431535  ...                   0.023541   \n2623                          2.21182  ...                  -0.020833   \n2624                         1.852607  ...                  -0.042848   \n2625                       -19.852446  ...                   0.098823   \n2626                        -2.909212  ...                   0.033703   \n...                               ...  ...                        ...   \n3118                        -4.330109  ...                  -0.037361   \n3119                        -4.383578  ...                   0.009193   \n3120                       -11.685426  ...                   0.066178   \n3121                         4.703043  ...                   0.001948   \n3122                         8.985847  ...                    0.07432   \n\n     HitsPositionParter_to_hits      eventDate.date winner odd_diff  \\\n2622                  -0.200478 2019-01-20 02:00:00  False     4.28   \n2623                   0.378571 2019-01-20 02:00:00   True    -2.35   \n2624                  -0.062206 2019-01-20 02:00:00  False    -0.26   \n2625                   0.066837 2019-01-20 02:00:00   True     2.41   \n2626                  -0.164385 2019-01-20 02:00:00   True     3.81   \n...                         ...                 ...    ...      ...   \n3118                   0.222779 2019-12-21 00:00:00   True    -0.05   \n3119                  -0.114519 2019-12-21 00:00:00  False     1.45   \n3120                  -0.310247 2019-12-21 00:00:00  False    -0.14   \n3121                   0.178571 2019-12-21 00:00:00   True     1.07   \n3122                  -0.177891 2019-12-21 00:00:00  False     1.19   \n\n     fighter1_fightsAmount fighter2_fightsAmount  odd1  odd2 y_pred  \n2622                     2                     3  5.48  1.20      0  \n2623                     2                     3  1.40  3.75      1  \n2624                     1                     1  1.89  2.15      1  \n2625                     2                     1  3.69  1.28      1  \n2626                     2                     4  5.01  1.20      0  \n...                    ...                   ...   ...   ...    ...  \n3118                     2                     1  1.89  1.94      1  \n3119                     3                     3  2.88  1.43      0  \n3120                     2                     2  1.85  1.99      1  \n3121                     1                     2  2.58  1.51      1  \n3122                     2                     1  2.67  1.48      0  \n\n[501 rows x 31 columns]",
      "text/html": "<div>\n<style scoped>\n    .dataframe tbody tr th:only-of-type {\n        vertical-align: middle;\n    }\n\n    .dataframe tbody tr th {\n        vertical-align: top;\n    }\n\n    .dataframe thead th {\n        text-align: right;\n    }\n</style>\n<table border=\"1\" class=\"dataframe\">\n  <thead>\n    <tr style=\"text-align: right;\">\n      <th></th>\n      <th>hitsPM</th>\n      <th>accentedHitsPM</th>\n      <th>takedownsPM</th>\n      <th>accentedHitsDistancePM</th>\n      <th>accentedHitsClinchPM</th>\n      <th>accentedHitsParterPM</th>\n      <th>hitsSuccessfulPM</th>\n      <th>accentedHitsSuccessfulPM</th>\n      <th>takedownsSuccessfulPM</th>\n      <th>accentedHitsDistanceSuccessfulPM</th>\n      <th>...</th>\n      <th>HitsPositionClinch_to_hits</th>\n      <th>HitsPositionParter_to_hits</th>\n      <th>eventDate.date</th>\n      <th>winner</th>\n      <th>odd_diff</th>\n      <th>fighter1_fightsAmount</th>\n      <th>fighter2_fightsAmount</th>\n      <th>odd1</th>\n      <th>odd2</th>\n      <th>y_pred</th>\n    </tr>\n  </thead>\n  <tbody>\n    <tr>\n      <th>2622</th>\n      <td>-25.89794</td>\n      <td>-19.612038</td>\n      <td>-0.024196</td>\n      <td>1.899624</td>\n      <td>0.768617</td>\n      <td>-22.280279</td>\n      <td>-16.028251</td>\n      <td>-11.261337</td>\n      <td>-0.047324</td>\n      <td>0.431535</td>\n      <td>...</td>\n      <td>0.023541</td>\n      <td>-0.200478</td>\n      <td>2019-01-20 02:00:00</td>\n      <td>False</td>\n      <td>4.28</td>\n      <td>2</td>\n      <td>3</td>\n      <td>5.48</td>\n      <td>1.20</td>\n      <td>0</td>\n    </tr>\n    <tr>\n      <th>2623</th>\n      <td>8.413548</td>\n      <td>8.093302</td>\n      <td>-1.621034</td>\n      <td>5.983601</td>\n      <td>-0.272975</td>\n      <td>2.382676</td>\n      <td>4.024911</td>\n      <td>3.855419</td>\n      <td>0.0</td>\n      <td>2.21182</td>\n      <td>...</td>\n      <td>-0.020833</td>\n      <td>0.378571</td>\n      <td>2019-01-20 02:00:00</td>\n      <td>True</td>\n      <td>-2.35</td>\n      <td>2</td>\n      <td>3</td>\n      <td>1.40</td>\n      <td>3.75</td>\n      <td>1</td>\n    </tr>\n    <tr>\n      <th>2624</th>\n      <td>-7.590965</td>\n      <td>1.043771</td>\n      <td>-0.55089</td>\n      <td>4.832289</td>\n      <td>-4.653893</td>\n      <td>0.865375</td>\n      <td>-10.658257</td>\n      <td>-3.237961</td>\n      <td>1.297714</td>\n      <td>1.852607</td>\n      <td>...</td>\n      <td>-0.042848</td>\n      <td>-0.062206</td>\n      <td>2019-01-20 02:00:00</td>\n      <td>False</td>\n      <td>-0.26</td>\n      <td>1</td>\n      <td>1</td>\n      <td>1.89</td>\n      <td>2.15</td>\n      <td>1</td>\n    </tr>\n    <tr>\n      <th>2625</th>\n      <td>-57.506089</td>\n      <td>-49.296309</td>\n      <td>-0.098447</td>\n      <td>-50.491969</td>\n      <td>-2.983843</td>\n      <td>4.179503</td>\n      <td>-25.856508</td>\n      <td>-18.955591</td>\n      <td>0.50037</td>\n      <td>-19.852446</td>\n      <td>...</td>\n      <td>0.098823</td>\n      <td>0.066837</td>\n      <td>2019-01-20 02:00:00</td>\n      <td>True</td>\n      <td>2.41</td>\n      <td>2</td>\n      <td>1</td>\n      <td>3.69</td>\n      <td>1.28</td>\n      <td>1</td>\n    </tr>\n    <tr>\n      <th>2626</th>\n      <td>-13.334967</td>\n      <td>-13.409557</td>\n      <td>0.355405</td>\n      <td>-3.249364</td>\n      <td>0.375843</td>\n      <td>-10.536036</td>\n      <td>-13.812913</td>\n      <td>-13.756783</td>\n      <td>0.135135</td>\n      <td>-2.909212</td>\n      <td>...</td>\n      <td>0.033703</td>\n      <td>-0.164385</td>\n      <td>2019-01-20 02:00:00</td>\n      <td>True</td>\n      <td>3.81</td>\n      <td>2</td>\n      <td>4</td>\n      <td>5.01</td>\n      <td>1.20</td>\n      <td>0</td>\n    </tr>\n    <tr>\n      <th>...</th>\n      <td>...</td>\n      <td>...</td>\n      <td>...</td>\n      <td>...</td>\n      <td>...</td>\n      <td>...</td>\n      <td>...</td>\n      <td>...</td>\n      <td>...</td>\n      <td>...</td>\n      <td>...</td>\n      <td>...</td>\n      <td>...</td>\n      <td>...</td>\n      <td>...</td>\n      <td>...</td>\n      <td>...</td>\n      <td>...</td>\n      <td>...</td>\n      <td>...</td>\n      <td>...</td>\n    </tr>\n    <tr>\n      <th>3118</th>\n      <td>-2.840035</td>\n      <td>-7.628505</td>\n      <td>-0.259648</td>\n      <td>-13.296777</td>\n      <td>-0.097671</td>\n      <td>5.765943</td>\n      <td>4.640153</td>\n      <td>0.32964</td>\n      <td>-0.057143</td>\n      <td>-4.330109</td>\n      <td>...</td>\n      <td>-0.037361</td>\n      <td>0.222779</td>\n      <td>2019-12-21 00:00:00</td>\n      <td>True</td>\n      <td>-0.05</td>\n      <td>2</td>\n      <td>1</td>\n      <td>1.89</td>\n      <td>1.94</td>\n      <td>1</td>\n    </tr>\n    <tr>\n      <th>3119</th>\n      <td>-11.663098</td>\n      <td>-10.051576</td>\n      <td>-0.288376</td>\n      <td>-6.577657</td>\n      <td>-2.030127</td>\n      <td>-1.443792</td>\n      <td>-8.69991</td>\n      <td>-7.243997</td>\n      <td>-0.103094</td>\n      <td>-4.383578</td>\n      <td>...</td>\n      <td>0.009193</td>\n      <td>-0.114519</td>\n      <td>2019-12-21 00:00:00</td>\n      <td>False</td>\n      <td>1.45</td>\n      <td>3</td>\n      <td>3</td>\n      <td>2.88</td>\n      <td>1.43</td>\n      <td>0</td>\n    </tr>\n    <tr>\n      <th>3120</th>\n      <td>-33.480823</td>\n      <td>-35.842107</td>\n      <td>-0.252101</td>\n      <td>-34.181974</td>\n      <td>-1.258317</td>\n      <td>-0.401816</td>\n      <td>-11.349771</td>\n      <td>-13.393457</td>\n      <td>0.0</td>\n      <td>-11.685426</td>\n      <td>...</td>\n      <td>0.066178</td>\n      <td>-0.310247</td>\n      <td>2019-12-21 00:00:00</td>\n      <td>False</td>\n      <td>-0.14</td>\n      <td>2</td>\n      <td>2</td>\n      <td>1.85</td>\n      <td>1.99</td>\n      <td>1</td>\n    </tr>\n    <tr>\n      <th>3121</th>\n      <td>3.739086</td>\n      <td>4.619619</td>\n      <td>0.30794</td>\n      <td>3.676759</td>\n      <td>0.001156</td>\n      <td>0.941704</td>\n      <td>5.649491</td>\n      <td>6.230024</td>\n      <td>0.30794</td>\n      <td>4.703043</td>\n      <td>...</td>\n      <td>0.001948</td>\n      <td>0.178571</td>\n      <td>2019-12-21 00:00:00</td>\n      <td>True</td>\n      <td>1.07</td>\n      <td>1</td>\n      <td>2</td>\n      <td>2.58</td>\n      <td>1.51</td>\n      <td>1</td>\n    </tr>\n    <tr>\n      <th>3122</th>\n      <td>36.933069</td>\n      <td>25.311508</td>\n      <td>1.412302</td>\n      <td>19.523413</td>\n      <td>9.254762</td>\n      <td>-3.466667</td>\n      <td>22.998545</td>\n      <td>12.014418</td>\n      <td>0.145238</td>\n      <td>8.985847</td>\n      <td>...</td>\n      <td>0.07432</td>\n      <td>-0.177891</td>\n      <td>2019-12-21 00:00:00</td>\n      <td>False</td>\n      <td>1.19</td>\n      <td>2</td>\n      <td>1</td>\n      <td>2.67</td>\n      <td>1.48</td>\n      <td>0</td>\n    </tr>\n  </tbody>\n</table>\n<p>501 rows × 31 columns</p>\n</div>"
     },
     "execution_count": 5,
     "metadata": {},
     "output_type": "execute_result"
    },
    {
     "data": {
      "text/plain": "         hitsPM accentedHitsPM takedownsPM accentedHitsDistancePM  \\\n2622  -25.89794     -19.612038   -0.024196               1.899624   \n2623   8.413548       8.093302   -1.621034               5.983601   \n2624  -7.590965       1.043771    -0.55089               4.832289   \n2625 -57.506089     -49.296309   -0.098447             -50.491969   \n2626 -13.334967     -13.409557    0.355405              -3.249364   \n...         ...            ...         ...                    ...   \n3118  -2.840035      -7.628505   -0.259648             -13.296777   \n3119 -11.663098     -10.051576   -0.288376              -6.577657   \n3120 -33.480823     -35.842107   -0.252101             -34.181974   \n3121   3.739086       4.619619     0.30794               3.676759   \n3122  36.933069      25.311508    1.412302              19.523413   \n\n     accentedHitsClinchPM accentedHitsParterPM hitsSuccessfulPM  \\\n2622             0.768617           -22.280279       -16.028251   \n2623            -0.272975             2.382676         4.024911   \n2624            -4.653893             0.865375       -10.658257   \n2625            -2.983843             4.179503       -25.856508   \n2626             0.375843           -10.536036       -13.812913   \n...                   ...                  ...              ...   \n3118            -0.097671             5.765943         4.640153   \n3119            -2.030127            -1.443792         -8.69991   \n3120            -1.258317            -0.401816       -11.349771   \n3121             0.001156             0.941704         5.649491   \n3122             9.254762            -3.466667        22.998545   \n\n     accentedHitsSuccessfulPM takedownsSuccessfulPM  \\\n2622               -11.261337             -0.047324   \n2623                 3.855419                   0.0   \n2624                -3.237961              1.297714   \n2625               -18.955591               0.50037   \n2626               -13.756783              0.135135   \n...                       ...                   ...   \n3118                  0.32964             -0.057143   \n3119                -7.243997             -0.103094   \n3120               -13.393457                   0.0   \n3121                 6.230024               0.30794   \n3122                12.014418              0.145238   \n\n     accentedHitsDistanceSuccessfulPM  ... HitsPositionClinch_to_hits  \\\n2622                         0.431535  ...                   0.023541   \n2623                          2.21182  ...                  -0.020833   \n2624                         1.852607  ...                  -0.042848   \n2625                       -19.852446  ...                   0.098823   \n2626                        -2.909212  ...                   0.033703   \n...                               ...  ...                        ...   \n3118                        -4.330109  ...                  -0.037361   \n3119                        -4.383578  ...                   0.009193   \n3120                       -11.685426  ...                   0.066178   \n3121                         4.703043  ...                   0.001948   \n3122                         8.985847  ...                    0.07432   \n\n     HitsPositionParter_to_hits      eventDate.date winner odd_diff  \\\n2622                  -0.200478 2019-01-20 02:00:00  False     4.28   \n2623                   0.378571 2019-01-20 02:00:00   True    -2.35   \n2624                  -0.062206 2019-01-20 02:00:00  False    -0.26   \n2625                   0.066837 2019-01-20 02:00:00   True     2.41   \n2626                  -0.164385 2019-01-20 02:00:00   True     3.81   \n...                         ...                 ...    ...      ...   \n3118                   0.222779 2019-12-21 00:00:00   True    -0.05   \n3119                  -0.114519 2019-12-21 00:00:00  False     1.45   \n3120                  -0.310247 2019-12-21 00:00:00  False    -0.14   \n3121                   0.178571 2019-12-21 00:00:00   True     1.07   \n3122                  -0.177891 2019-12-21 00:00:00  False     1.19   \n\n     fighter1_fightsAmount fighter2_fightsAmount  odd1  odd2 y_pred  \n2622                     2                     3  5.48  1.20      0  \n2623                     2                     3  1.40  3.75      1  \n2624                     1                     1  1.89  2.15      1  \n2625                     2                     1  3.69  1.28      1  \n2626                     2                     4  5.01  1.20      0  \n...                    ...                   ...   ...   ...    ...  \n3118                     2                     1  1.89  1.94      1  \n3119                     3                     3  2.88  1.43      0  \n3120                     2                     2  1.85  1.99      1  \n3121                     1                     2  2.58  1.51      1  \n3122                     2                     1  2.67  1.48      0  \n\n[501 rows x 31 columns]",
      "text/html": "<div>\n<style scoped>\n    .dataframe tbody tr th:only-of-type {\n        vertical-align: middle;\n    }\n\n    .dataframe tbody tr th {\n        vertical-align: top;\n    }\n\n    .dataframe thead th {\n        text-align: right;\n    }\n</style>\n<table border=\"1\" class=\"dataframe\">\n  <thead>\n    <tr style=\"text-align: right;\">\n      <th></th>\n      <th>hitsPM</th>\n      <th>accentedHitsPM</th>\n      <th>takedownsPM</th>\n      <th>accentedHitsDistancePM</th>\n      <th>accentedHitsClinchPM</th>\n      <th>accentedHitsParterPM</th>\n      <th>hitsSuccessfulPM</th>\n      <th>accentedHitsSuccessfulPM</th>\n      <th>takedownsSuccessfulPM</th>\n      <th>accentedHitsDistanceSuccessfulPM</th>\n      <th>...</th>\n      <th>HitsPositionClinch_to_hits</th>\n      <th>HitsPositionParter_to_hits</th>\n      <th>eventDate.date</th>\n      <th>winner</th>\n      <th>odd_diff</th>\n      <th>fighter1_fightsAmount</th>\n      <th>fighter2_fightsAmount</th>\n      <th>odd1</th>\n      <th>odd2</th>\n      <th>y_pred</th>\n    </tr>\n  </thead>\n  <tbody>\n    <tr>\n      <th>2622</th>\n      <td>-25.89794</td>\n      <td>-19.612038</td>\n      <td>-0.024196</td>\n      <td>1.899624</td>\n      <td>0.768617</td>\n      <td>-22.280279</td>\n      <td>-16.028251</td>\n      <td>-11.261337</td>\n      <td>-0.047324</td>\n      <td>0.431535</td>\n      <td>...</td>\n      <td>0.023541</td>\n      <td>-0.200478</td>\n      <td>2019-01-20 02:00:00</td>\n      <td>False</td>\n      <td>4.28</td>\n      <td>2</td>\n      <td>3</td>\n      <td>5.48</td>\n      <td>1.20</td>\n      <td>0</td>\n    </tr>\n    <tr>\n      <th>2623</th>\n      <td>8.413548</td>\n      <td>8.093302</td>\n      <td>-1.621034</td>\n      <td>5.983601</td>\n      <td>-0.272975</td>\n      <td>2.382676</td>\n      <td>4.024911</td>\n      <td>3.855419</td>\n      <td>0.0</td>\n      <td>2.21182</td>\n      <td>...</td>\n      <td>-0.020833</td>\n      <td>0.378571</td>\n      <td>2019-01-20 02:00:00</td>\n      <td>True</td>\n      <td>-2.35</td>\n      <td>2</td>\n      <td>3</td>\n      <td>1.40</td>\n      <td>3.75</td>\n      <td>1</td>\n    </tr>\n    <tr>\n      <th>2624</th>\n      <td>-7.590965</td>\n      <td>1.043771</td>\n      <td>-0.55089</td>\n      <td>4.832289</td>\n      <td>-4.653893</td>\n      <td>0.865375</td>\n      <td>-10.658257</td>\n      <td>-3.237961</td>\n      <td>1.297714</td>\n      <td>1.852607</td>\n      <td>...</td>\n      <td>-0.042848</td>\n      <td>-0.062206</td>\n      <td>2019-01-20 02:00:00</td>\n      <td>False</td>\n      <td>-0.26</td>\n      <td>1</td>\n      <td>1</td>\n      <td>1.89</td>\n      <td>2.15</td>\n      <td>1</td>\n    </tr>\n    <tr>\n      <th>2625</th>\n      <td>-57.506089</td>\n      <td>-49.296309</td>\n      <td>-0.098447</td>\n      <td>-50.491969</td>\n      <td>-2.983843</td>\n      <td>4.179503</td>\n      <td>-25.856508</td>\n      <td>-18.955591</td>\n      <td>0.50037</td>\n      <td>-19.852446</td>\n      <td>...</td>\n      <td>0.098823</td>\n      <td>0.066837</td>\n      <td>2019-01-20 02:00:00</td>\n      <td>True</td>\n      <td>2.41</td>\n      <td>2</td>\n      <td>1</td>\n      <td>3.69</td>\n      <td>1.28</td>\n      <td>1</td>\n    </tr>\n    <tr>\n      <th>2626</th>\n      <td>-13.334967</td>\n      <td>-13.409557</td>\n      <td>0.355405</td>\n      <td>-3.249364</td>\n      <td>0.375843</td>\n      <td>-10.536036</td>\n      <td>-13.812913</td>\n      <td>-13.756783</td>\n      <td>0.135135</td>\n      <td>-2.909212</td>\n      <td>...</td>\n      <td>0.033703</td>\n      <td>-0.164385</td>\n      <td>2019-01-20 02:00:00</td>\n      <td>True</td>\n      <td>3.81</td>\n      <td>2</td>\n      <td>4</td>\n      <td>5.01</td>\n      <td>1.20</td>\n      <td>0</td>\n    </tr>\n    <tr>\n      <th>...</th>\n      <td>...</td>\n      <td>...</td>\n      <td>...</td>\n      <td>...</td>\n      <td>...</td>\n      <td>...</td>\n      <td>...</td>\n      <td>...</td>\n      <td>...</td>\n      <td>...</td>\n      <td>...</td>\n      <td>...</td>\n      <td>...</td>\n      <td>...</td>\n      <td>...</td>\n      <td>...</td>\n      <td>...</td>\n      <td>...</td>\n      <td>...</td>\n      <td>...</td>\n      <td>...</td>\n    </tr>\n    <tr>\n      <th>3118</th>\n      <td>-2.840035</td>\n      <td>-7.628505</td>\n      <td>-0.259648</td>\n      <td>-13.296777</td>\n      <td>-0.097671</td>\n      <td>5.765943</td>\n      <td>4.640153</td>\n      <td>0.32964</td>\n      <td>-0.057143</td>\n      <td>-4.330109</td>\n      <td>...</td>\n      <td>-0.037361</td>\n      <td>0.222779</td>\n      <td>2019-12-21 00:00:00</td>\n      <td>True</td>\n      <td>-0.05</td>\n      <td>2</td>\n      <td>1</td>\n      <td>1.89</td>\n      <td>1.94</td>\n      <td>1</td>\n    </tr>\n    <tr>\n      <th>3119</th>\n      <td>-11.663098</td>\n      <td>-10.051576</td>\n      <td>-0.288376</td>\n      <td>-6.577657</td>\n      <td>-2.030127</td>\n      <td>-1.443792</td>\n      <td>-8.69991</td>\n      <td>-7.243997</td>\n      <td>-0.103094</td>\n      <td>-4.383578</td>\n      <td>...</td>\n      <td>0.009193</td>\n      <td>-0.114519</td>\n      <td>2019-12-21 00:00:00</td>\n      <td>False</td>\n      <td>1.45</td>\n      <td>3</td>\n      <td>3</td>\n      <td>2.88</td>\n      <td>1.43</td>\n      <td>0</td>\n    </tr>\n    <tr>\n      <th>3120</th>\n      <td>-33.480823</td>\n      <td>-35.842107</td>\n      <td>-0.252101</td>\n      <td>-34.181974</td>\n      <td>-1.258317</td>\n      <td>-0.401816</td>\n      <td>-11.349771</td>\n      <td>-13.393457</td>\n      <td>0.0</td>\n      <td>-11.685426</td>\n      <td>...</td>\n      <td>0.066178</td>\n      <td>-0.310247</td>\n      <td>2019-12-21 00:00:00</td>\n      <td>False</td>\n      <td>-0.14</td>\n      <td>2</td>\n      <td>2</td>\n      <td>1.85</td>\n      <td>1.99</td>\n      <td>1</td>\n    </tr>\n    <tr>\n      <th>3121</th>\n      <td>3.739086</td>\n      <td>4.619619</td>\n      <td>0.30794</td>\n      <td>3.676759</td>\n      <td>0.001156</td>\n      <td>0.941704</td>\n      <td>5.649491</td>\n      <td>6.230024</td>\n      <td>0.30794</td>\n      <td>4.703043</td>\n      <td>...</td>\n      <td>0.001948</td>\n      <td>0.178571</td>\n      <td>2019-12-21 00:00:00</td>\n      <td>True</td>\n      <td>1.07</td>\n      <td>1</td>\n      <td>2</td>\n      <td>2.58</td>\n      <td>1.51</td>\n      <td>1</td>\n    </tr>\n    <tr>\n      <th>3122</th>\n      <td>36.933069</td>\n      <td>25.311508</td>\n      <td>1.412302</td>\n      <td>19.523413</td>\n      <td>9.254762</td>\n      <td>-3.466667</td>\n      <td>22.998545</td>\n      <td>12.014418</td>\n      <td>0.145238</td>\n      <td>8.985847</td>\n      <td>...</td>\n      <td>0.07432</td>\n      <td>-0.177891</td>\n      <td>2019-12-21 00:00:00</td>\n      <td>False</td>\n      <td>1.19</td>\n      <td>2</td>\n      <td>1</td>\n      <td>2.67</td>\n      <td>1.48</td>\n      <td>0</td>\n    </tr>\n  </tbody>\n</table>\n<p>501 rows × 31 columns</p>\n</div>"
     },
     "execution_count": 14,
     "metadata": {},
     "output_type": "execute_result"
    }
   ],
   "source": [
    "y_pred = clf.predict(test_df_combined[clf.feature_names_])\n",
    "test_df_combined['y_pred'] = y_pred\n",
    "test_df_combined"
   ]
  },
  {
   "cell_type": "code",
   "execution_count": 15,
   "id": "grateful-korean",
   "metadata": {
    "pycharm": {
     "name": "#%%\n"
    }
   },
   "outputs": [
    {
     "name": "stdout",
     "output_type": "stream",
     "text": [
      "Точность модели\n"
     ]
    },
    {
     "data": {
      "text/plain": "0.6387225548902196"
     },
     "execution_count": 6,
     "metadata": {},
     "output_type": "execute_result"
    },
    {
     "name": "stdout",
     "output_type": "stream",
     "text": [
      "Точность модели\n"
     ]
    },
    {
     "data": {
      "text/plain": "0.6387225548902196"
     },
     "execution_count": 15,
     "metadata": {},
     "output_type": "execute_result"
    }
   ],
   "source": [
    "print('Точность модели')\n",
    "(test_df_combined['y_pred'] == test_df_combined['winner']).mean()"
   ]
  },
  {
   "cell_type": "code",
   "execution_count": 16,
   "id": "removable-assessment",
   "metadata": {
    "pycharm": {
     "name": "#%%\n"
    }
   },
   "outputs": [
    {
     "name": "stdout",
     "output_type": "stream",
     "text": [
      "Точность букмейкера\n"
     ]
    },
    {
     "data": {
      "text/plain": "0.6187624750499002"
     },
     "execution_count": 7,
     "metadata": {},
     "output_type": "execute_result"
    },
    {
     "name": "stdout",
     "output_type": "stream",
     "text": [
      "Точность букмейкера\n"
     ]
    },
    {
     "data": {
      "text/plain": "0.6187624750499002"
     },
     "execution_count": 16,
     "metadata": {},
     "output_type": "execute_result"
    }
   ],
   "source": [
    "print('Точность букмейкера')\n",
    "test_df_combined['bookmaker_bet'] = (test_df_combined['odd1'] < test_df_combined['odd2']).astype(int)\n",
    "(test_df_combined['bookmaker_bet'] == test_df_combined['winner']).mean()"
   ]
  },
  {
   "cell_type": "code",
   "execution_count": 17,
   "id": "simplified-longitude",
   "metadata": {
    "pycharm": {
     "name": "#%%\n"
    }
   },
   "outputs": [
    {
     "name": "stdout",
     "output_type": "stream",
     "text": [
      "Average ROI: -21.125748502994014 %\n"
     ]
    },
    {
     "data": {
      "text/plain": "-21.125748502994014"
     },
     "execution_count": 8,
     "metadata": {},
     "output_type": "execute_result"
    },
    {
     "name": "stdout",
     "output_type": "stream",
     "text": [
      "Average ROI: -21.125748502994014 %\n"
     ]
    },
    {
     "data": {
      "text/plain": "-21.125748502994014"
     },
     "execution_count": 17,
     "metadata": {},
     "output_type": "execute_result"
    }
   ],
   "source": [
    "def prof_acc(y_true, y_pred, odds1, odds2):\n",
    "    odds = list(zip(odds1, odds2))\n",
    "    avg_odd = []\n",
    "\n",
    "    for num, boo in enumerate(y_true == y_pred):\n",
    "        if boo == True:\n",
    "            pred = y_true[num]\n",
    "            if pred == 0: pred = 1\n",
    "            else: pred = 0\n",
    "            res = odds[num][pred]\n",
    "            avg_odd.append(res) \n",
    "        if boo == False:\n",
    "            pred = y_true[num]\n",
    "            if pred == 0: pred = 1\n",
    "            else: pred = 0\n",
    "\n",
    "            res = odds[num][pred]\n",
    "            avg_odd.append(-1)\n",
    "    print('Average ROI:', (np.mean(avg_odd)-1)*100, '%')\n",
    "    return (np.mean(avg_odd)-1)*100\n",
    "\n",
    "prof_acc(test_df_combined['winner'].values, test_df_combined['y_pred'].values, test_df_combined['odd1'].values, test_df_combined['odd2'].values)"
   ]
  },
  {
   "cell_type": "markdown",
   "id": "creative-prior",
   "metadata": {
    "pycharm": {
     "name": "#%% md\n"
    }
   },
   "source": [
    "# Простейшая стратегия ставок"
   ]
  },
  {
   "cell_type": "code",
   "execution_count": 18,
   "id": "incomplete-moisture",
   "metadata": {
    "pycharm": {
     "name": "#%%\n"
    }
   },
   "outputs": [
    {
     "name": "stderr",
     "output_type": "stream",
     "text": [
      "/tmp/ipykernel_25593/1184950811.py:3: TqdmDeprecationWarning: This function will be removed in tqdm==5.0.0\n",
      "Please use `tqdm.notebook.tqdm` instead of `tqdm.tqdm_notebook`\n",
      "  for ind in tqdm(test_df_combined.index):\n"
     ]
    },
    {
     "data": {
      "text/plain": "  0%|          | 0/501 [00:00<?, ?it/s]",
      "application/vnd.jupyter.widget-view+json": {
       "version_major": 2,
       "version_minor": 0,
       "model_id": "9041629f63e54745abe709c7fac42841"
      }
     },
     "metadata": {},
     "output_type": "display_data"
    },
    {
     "data": {
      "text/plain": "7516.0"
     },
     "execution_count": 9,
     "metadata": {},
     "output_type": "execute_result"
    },
    {
     "name": "stderr",
     "output_type": "stream",
     "text": [
      "/tmp/ipykernel_25593/1184950811.py:3: TqdmDeprecationWarning: This function will be removed in tqdm==5.0.0\n",
      "Please use `tqdm.notebook.tqdm` instead of `tqdm.tqdm_notebook`\n",
      "  for ind in tqdm(test_df_combined.index):\n"
     ]
    },
    {
     "data": {
      "text/plain": "  0%|          | 0/501 [00:00<?, ?it/s]",
      "application/vnd.jupyter.widget-view+json": {
       "version_major": 2,
       "version_minor": 0,
       "model_id": "435da1f9b4b840a095bfd24c6ad6153a"
      }
     },
     "metadata": {},
     "output_type": "display_data"
    },
    {
     "data": {
      "text/plain": "7516.0"
     },
     "execution_count": 18,
     "metadata": {},
     "output_type": "execute_result"
    }
   ],
   "source": [
    "bet = 100 # рублей\n",
    "bank = 0 \n",
    "for ind in tqdm(test_df_combined.index):\n",
    "    winner, y_pred, odd1, odd2 = test_df_combined.loc[ind, ['winner', 'y_pred', 'odd1', 'odd2']]\n",
    "    \n",
    "    if winner == y_pred:\n",
    "        if winner:\n",
    "            win_odd = odd1\n",
    "        else: win_odd = odd2\n",
    "        \n",
    "        bank += bet*win_odd - bet\n",
    "    \n",
    "    else:\n",
    "        bank -= bet\n",
    "bank"
   ]
  },
  {
   "cell_type": "code",
   "execution_count": 18,
   "id": "entertaining-canal",
   "metadata": {
    "pycharm": {
     "name": "#%%\n"
    }
   },
   "outputs": [],
   "source": []
  },
  {
   "cell_type": "code",
   "execution_count": 18,
   "id": "loving-designation",
   "metadata": {
    "pycharm": {
     "name": "#%%\n"
    }
   },
   "outputs": [],
   "source": []
  }
 ],
 "metadata": {
  "kernelspec": {
   "display_name": "Python 3",
   "language": "python",
   "name": "python3"
  },
  "language_info": {
   "codemirror_mode": {
    "name": "ipython",
    "version": 3
   },
   "file_extension": ".py",
   "mimetype": "text/x-python",
   "name": "python",
   "nbconvert_exporter": "python",
   "pygments_lexer": "ipython3",
   "version": "3.8.5"
  }
 },
 "nbformat": 4,
 "nbformat_minor": 5
}